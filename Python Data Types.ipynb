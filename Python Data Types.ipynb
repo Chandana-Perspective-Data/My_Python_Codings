{
 "cells": [
  {
   "cell_type": "markdown",
   "id": "ce7ea276",
   "metadata": {},
   "source": [
    "# Execute Python Syntax\n",
    "\n",
    "\n",
    "Python syntax can be executed by writing directly in the code"
   ]
  },
  {
   "cell_type": "code",
   "execution_count": null,
   "id": "0d72d324",
   "metadata": {},
   "outputs": [],
   "source": [
    "print(\"hello world\")"
   ]
  },
  {
   "cell_type": "code",
   "execution_count": null,
   "id": "bf9633a3",
   "metadata": {},
   "outputs": [],
   "source": [
    "print(\"hi\")"
   ]
  },
  {
   "cell_type": "markdown",
   "id": "f761e916",
   "metadata": {},
   "source": [
    "# Python Indentation\n",
    "\n",
    "Indentation refers to the space at the beginning of a code line.\n",
    "\n",
    "Where in other programming languages the indentation in code is for readability only, the indentation in Python is very important.\n"
   ]
  },
  {
   "cell_type": "code",
   "execution_count": null,
   "id": "5491d089",
   "metadata": {},
   "outputs": [],
   "source": [
    "if 10>5:\n",
    "    print(\"Ten is greater than five\")\n",
    "    "
   ]
  },
  {
   "cell_type": "markdown",
   "id": "c72045f2",
   "metadata": {},
   "source": [
    "### Python will give you an error if you skip the indentation:"
   ]
  },
  {
   "cell_type": "code",
   "execution_count": null,
   "id": "75ae3d8f",
   "metadata": {},
   "outputs": [],
   "source": [
    "if 5>2:\n",
    "print(\"five is greater than two\")"
   ]
  },
  {
   "cell_type": "markdown",
   "id": "4095379e",
   "metadata": {},
   "source": [
    "# Python Variables\n",
    "\n",
    "In python ,variables are created when you assign a value to it."
   ]
  },
  {
   "cell_type": "code",
   "execution_count": null,
   "id": "18bc9b65",
   "metadata": {},
   "outputs": [],
   "source": [
    "# valied\n",
    "myvar = 10\n",
    "my_var = 10\n",
    "MyVar = 10\n",
    "Myvar1 = 10\n",
    "my_Var_1 = 10\n",
    "\n",
    "\n",
    "# Invalied\n",
    "My Var = 10\n",
    "My-var = 10\n",
    "1_myvar = 10"
   ]
  },
  {
   "cell_type": "code",
   "execution_count": null,
   "id": "6edce335",
   "metadata": {},
   "outputs": [],
   "source": [
    "x=5\n",
    "y=\"hi\"\n",
    "print(x)\n",
    "print(y)"
   ]
  },
  {
   "cell_type": "code",
   "execution_count": null,
   "id": "525d99b3",
   "metadata": {},
   "outputs": [],
   "source": [
    "name = \"Python\"\n",
    "print(name)\n",
    "print(\"name\")"
   ]
  },
  {
   "cell_type": "markdown",
   "id": "493c725b",
   "metadata": {},
   "source": [
    "# Python Comments\n",
    "\n",
    "Comments can be used to explain Python code.\n",
    "\n",
    "Comments can be used to make the code more readable.\n",
    "\n",
    "Comments starts with a #, and Python will ignore them:\n"
   ]
  },
  {
   "cell_type": "code",
   "execution_count": null,
   "id": "d65403e1",
   "metadata": {},
   "outputs": [],
   "source": [
    "#This is a comment\n",
    "print(\"Hello, World!\")"
   ]
  },
  {
   "cell_type": "markdown",
   "id": "c786057f",
   "metadata": {},
   "source": [
    "# Multi Line Comments\n",
    "\n",
    "Python does not really have a syntax for multi line comments.\n",
    "\n",
    "To add a multiline comment you could insert a # for each line:"
   ]
  },
  {
   "cell_type": "code",
   "execution_count": null,
   "id": "5f61fc57",
   "metadata": {},
   "outputs": [],
   "source": [
    "#This is a comment\n",
    "#written in\n",
    "#more than just one line\n",
    "print(\"Hello, World!\")"
   ]
  },
  {
   "cell_type": "code",
   "execution_count": null,
   "id": "55a16278",
   "metadata": {},
   "outputs": [],
   "source": [
    "def add():\n",
    "    \"\"\"\n",
    "    This function is ti add the two num\n",
    "    \n",
    "    \"\"\"\n",
    "    a= 10\n",
    "    b=20\n",
    "    return a+b"
   ]
  },
  {
   "cell_type": "code",
   "execution_count": null,
   "id": "c26b000c",
   "metadata": {},
   "outputs": [],
   "source": [
    "\"\"\"\n",
    "This is a comment\n",
    "written in\n",
    "more than just one line\n",
    "\"\"\"    # Doc string comment\n",
    "print(\"Hello, World!\")"
   ]
  },
  {
   "cell_type": "markdown",
   "id": "5d5158f5",
   "metadata": {},
   "source": [
    " # Built-in Data Types"
   ]
  },
  {
   "cell_type": "markdown",
   "id": "9103eb10",
   "metadata": {},
   "source": [
    "### In programming, data type is an important concept.\n",
    "\n",
    "### Variables can store data of different types, and different types can do different things.\n",
    "\n",
    "### Python has the following data types built-in by default, in these categories:\n",
    "\n",
    "1. Text Type  :\tstr\n",
    "2. Numeric Types  :\tint, float, complex\n",
    "3. Sequence Types :\tlist, tuple, range\n",
    "4. Mapping Type :\tdict\n",
    "5. Set Types  :\tset, frozenset\n",
    "6. Boolean Type  :\tbool\n"
   ]
  },
  {
   "cell_type": "code",
   "execution_count": null,
   "id": "8dd94ba1",
   "metadata": {},
   "outputs": [],
   "source": [
    "x=4\n",
    "print(type(x))"
   ]
  },
  {
   "cell_type": "markdown",
   "id": "dc823ac1",
   "metadata": {},
   "source": [
    "# Setting the Data Type\n",
    "In Python, the data type is set when you assign a value to a variable"
   ]
  },
  {
   "cell_type": "code",
   "execution_count": null,
   "id": "e56100f9",
   "metadata": {},
   "outputs": [],
   "source": [
    "# string # Strings in python are surrounded by either single quotation marks,\n",
    "#or double quotation marks.\n",
    "x=\"hello world\"\n",
    "print(type(x))"
   ]
  },
  {
   "cell_type": "code",
   "execution_count": null,
   "id": "0215bee4",
   "metadata": {},
   "outputs": [],
   "source": [
    "# int  # integer number \n",
    "\n",
    "x= 10\n",
    "print(type(x))"
   ]
  },
  {
   "cell_type": "code",
   "execution_count": null,
   "id": "9a79661d",
   "metadata": {},
   "outputs": [],
   "source": [
    "# float, \"floating point number\" is a number, positive or negative, \n",
    "#containing one or more decimals.\n",
    "\n",
    "x=10.5\n",
    "print(type(x))"
   ]
  },
  {
   "cell_type": "code",
   "execution_count": null,
   "id": "46f05ffb",
   "metadata": {},
   "outputs": [],
   "source": [
    "# complex ,Complex numbers are written with a \"j\" as the imaginary part\n",
    "\n",
    "x= 2j+1\n",
    "print(type(x))"
   ]
  },
  {
   "cell_type": "code",
   "execution_count": null,
   "id": "06ede02b",
   "metadata": {},
   "outputs": [],
   "source": [
    "# list,Lists are used to store multiple items in a single variable.\n",
    "\n",
    "x=[\"apple\",\"banana\",\"mango\"]\n",
    "print(type(x))"
   ]
  },
  {
   "cell_type": "code",
   "execution_count": null,
   "id": "3e72f585",
   "metadata": {},
   "outputs": [],
   "source": [
    "# tuple, are used to store multiple items in a single variable.\n",
    "# \n",
    "x=(\"orange\",\"grapes\",\"guava\")\n",
    "print(type(x))"
   ]
  },
  {
   "cell_type": "code",
   "execution_count": null,
   "id": "3ec1c548",
   "metadata": {},
   "outputs": [],
   "source": [
    "# range\n",
    "\n",
    "x=range(6)\n",
    "print(type(x))"
   ]
  },
  {
   "cell_type": "code",
   "execution_count": null,
   "id": "c9592f64",
   "metadata": {},
   "outputs": [],
   "source": [
    "# dict ,Dictionaries are used to store data values in key:value pairs.\n",
    "# Dictionaries are written with curly brackets, and have keys and values\n",
    "\n",
    "x={\"name\":\"chandana\",\"place\":\"hyderabad\"}\n",
    "print(type(x))"
   ]
  },
  {
   "cell_type": "code",
   "execution_count": null,
   "id": "c94314b7",
   "metadata": {},
   "outputs": [],
   "source": [
    "# set,Sets are used to store multiple items in a single variable.\n",
    "# Sets are written with curly brackets\n",
    "\n",
    "x={\"table\",\"chair\",\"phone\"}\n",
    "print(type(x))"
   ]
  },
  {
   "cell_type": "code",
   "execution_count": null,
   "id": "ac3b1cb5",
   "metadata": {},
   "outputs": [],
   "source": [
    "# frozenset,As it is a set object therefore we cannot have\n",
    "#duplicate values in the frozenset.\n",
    "\n",
    "x=frozenset({\"laptop\",\"computer\"})\n",
    "print(type(x))"
   ]
  },
  {
   "cell_type": "code",
   "execution_count": null,
   "id": "c9e69fe7",
   "metadata": {},
   "outputs": [],
   "source": [
    "# bool # Booleans represent one of two values: True or False.\n",
    "x=True\n",
    "print(type(x))"
   ]
  },
  {
   "cell_type": "markdown",
   "id": "17cb09c7",
   "metadata": {},
   "source": [
    "When you compare two values, the expression is evaluated and Python returns the Boolean answer"
   ]
  },
  {
   "cell_type": "code",
   "execution_count": null,
   "id": "1ec821ed",
   "metadata": {},
   "outputs": [],
   "source": [
    "print(10 > 9)\n",
    "print(10 == 9)\n",
    "print(10 < 9)"
   ]
  },
  {
   "cell_type": "code",
   "execution_count": null,
   "id": "05416d09",
   "metadata": {},
   "outputs": [],
   "source": [
    "# none\n",
    "x=None\n",
    "print(type(x))"
   ]
  },
  {
   "cell_type": "markdown",
   "id": "de2fcae4",
   "metadata": {},
   "source": [
    "# Setting the Specific Data Type or Type conversion\n",
    "If you want to specify the data type, you can use the following constructor functions"
   ]
  },
  {
   "cell_type": "code",
   "execution_count": null,
   "id": "4a55e9b4",
   "metadata": {},
   "outputs": [],
   "source": [
    "\n",
    "x=1729\n",
    "print(x)\n",
    "print(type(x))"
   ]
  },
  {
   "cell_type": "code",
   "execution_count": null,
   "id": "62c3f7a1",
   "metadata": {},
   "outputs": [],
   "source": [
    "x=(\"car\",1000000,)\n",
    "print(type(x))"
   ]
  },
  {
   "cell_type": "code",
   "execution_count": null,
   "id": "64376e64",
   "metadata": {},
   "outputs": [],
   "source": [
    "# string\n",
    "x=str(1729) # here iam creating initially number has a string\n",
    "print(x)\n",
    "print(type(x))"
   ]
  },
  {
   "cell_type": "code",
   "execution_count": null,
   "id": "cd2749d0",
   "metadata": {},
   "outputs": [],
   "source": [
    "y=list(\"python\")\n",
    "print(y)\n",
    "print(type(y))"
   ]
  },
  {
   "cell_type": "code",
   "execution_count": null,
   "id": "f72c84a5",
   "metadata": {},
   "outputs": [],
   "source": [
    "x=list(\"hello world\")\n",
    "\n",
    "print(x)\n",
    "print(type(x))"
   ]
  },
  {
   "cell_type": "code",
   "execution_count": null,
   "id": "cc26c572",
   "metadata": {},
   "outputs": [],
   "source": [
    "# string\n",
    "x=str(\"hello world\")\n",
    "print(x)\n",
    "print(type(x))"
   ]
  },
  {
   "cell_type": "code",
   "execution_count": null,
   "id": "72c964e3",
   "metadata": {},
   "outputs": [],
   "source": [
    "y=str(\"Good morning\")\n",
    "print(y)\n",
    "print(type(y))"
   ]
  },
  {
   "cell_type": "code",
   "execution_count": null,
   "id": "89aba590",
   "metadata": {},
   "outputs": [],
   "source": [
    "# int\n",
    "x=int(20)\n",
    "print(x)\n",
    "print(type(x))\n"
   ]
  },
  {
   "cell_type": "code",
   "execution_count": null,
   "id": "9dca74e2",
   "metadata": {},
   "outputs": [],
   "source": [
    "my_self=int(\"12\")\n",
    "print(my_self)\n",
    "print(type(my_self))"
   ]
  },
  {
   "cell_type": "code",
   "execution_count": null,
   "id": "2ff103fc",
   "metadata": {},
   "outputs": [],
   "source": [
    "# float\n",
    "x=float(12.0)\n",
    "print(x)\n",
    "print(type(x))"
   ]
  },
  {
   "cell_type": "code",
   "execution_count": null,
   "id": "e26805ce",
   "metadata": {},
   "outputs": [],
   "source": [
    "# complex\n",
    "x=complex(1j)\n",
    "print(x)\n",
    "print(type(x))"
   ]
  },
  {
   "cell_type": "code",
   "execution_count": null,
   "id": "d485e553",
   "metadata": {},
   "outputs": [],
   "source": [
    "# list\n",
    "x=[1,2,3,4,4,5]\n",
    "print(x)\n",
    "print(type(x))"
   ]
  },
  {
   "cell_type": "code",
   "execution_count": null,
   "id": "ea06aab8",
   "metadata": {},
   "outputs": [],
   "source": [
    "x=list((\"apple\",\"banana\",\"orange\"))\n",
    "print(x)\n",
    "print(type(x))"
   ]
  },
  {
   "cell_type": "code",
   "execution_count": null,
   "id": "ec26514e",
   "metadata": {},
   "outputs": [],
   "source": [
    "# tuple\n",
    "x=tuple((\"A\",\"B\",\"C\",\"D\"))\n",
    "print(x)\n",
    "print(type(x))"
   ]
  },
  {
   "cell_type": "code",
   "execution_count": null,
   "id": "5c4c6c89",
   "metadata": {},
   "outputs": [],
   "source": [
    "# range\n",
    "x=range(5)\n",
    "print(x)\n",
    "print(type(x))\n"
   ]
  },
  {
   "cell_type": "code",
   "execution_count": null,
   "id": "0f9e5e6e",
   "metadata": {},
   "outputs": [],
   "source": [
    "y=range(10)\n",
    "print(y)\n",
    "print(type(y))"
   ]
  },
  {
   "cell_type": "code",
   "execution_count": null,
   "id": "d1f5acf1",
   "metadata": {},
   "outputs": [],
   "source": [
    "# dict\n",
    "x=dict(name=\"chandana\",location=\"hyderabad\")\n",
    "print(x)\n",
    "print(type(x))"
   ]
  },
  {
   "cell_type": "code",
   "execution_count": null,
   "id": "b4acd132",
   "metadata": {},
   "outputs": [],
   "source": [
    "# tuple\n",
    "x=((\"apple\",\"mango\",\"orange\"))\n",
    "print(x)\n",
    "print(type(x))"
   ]
  },
  {
   "cell_type": "markdown",
   "id": "0fca64f0",
   "metadata": {},
   "source": [
    "# frozenset\n",
    "A frozenset is an unordered, un-indexed, and immutable collection of elements. It provides all the functionalities that a set offers in Python, the only difference being the fact that a frozenset is immutable, i.e. can’t be changed after it is created."
   ]
  },
  {
   "cell_type": "code",
   "execution_count": null,
   "id": "e1a2fd04",
   "metadata": {},
   "outputs": [],
   "source": [
    "# frozenset\n",
    "\n",
    "x=frozenset((\"chandana\",\"kalyani\",\"maheshwari\"))\n",
    "print(x)\n",
    "print(type(x))"
   ]
  },
  {
   "cell_type": "code",
   "execution_count": 2,
   "id": "3ffe1583",
   "metadata": {},
   "outputs": [
    {
     "name": "stdout",
     "output_type": "stream",
     "text": [
      "frozenset({1, 2, 3, 4, 5, 6, 7})\n"
     ]
    }
   ],
   "source": [
    "x=frozenset((1,2,3,4,5,6,7))\n",
    "print(x)"
   ]
  },
  {
   "cell_type": "code",
   "execution_count": 1,
   "id": "77ed5a27",
   "metadata": {},
   "outputs": [
    {
     "name": "stdout",
     "output_type": "stream",
     "text": [
      "{1, 4, 5, 22, 13}\n",
      "frozenset({1, 4, 5, 22, 13})\n",
      "frozenset({'h', 'l', 'e', 'o'})\n",
      "frozenset({'a', 'o', 'h', 'r', 'n', 'P', 'm', ' ', 't', 'y', 'g'})\n"
     ]
    }
   ],
   "source": [
    "s={1,22,13,4,5}\n",
    "print(s)\n",
    "\n",
    "fs=frozenset(s)\n",
    "print(fs)\n",
    "\n",
    "print(frozenset(\"hello\"))\n",
    "print(frozenset(\"Python Program\"))"
   ]
  },
  {
   "cell_type": "code",
   "execution_count": null,
   "id": "a5cca5a8",
   "metadata": {},
   "outputs": [],
   "source": [
    "# bool\n",
    "x=bool(6)\n",
    "print(x)\n",
    "print(type(x))"
   ]
  },
  {
   "cell_type": "code",
   "execution_count": null,
   "id": "99f0f4fe",
   "metadata": {},
   "outputs": [],
   "source": [
    "# converting tuple to frozenset"
   ]
  },
  {
   "cell_type": "code",
   "execution_count": null,
   "id": "d7a4a51d",
   "metadata": {
    "scrolled": true
   },
   "outputs": [],
   "source": [
    "x= frozenset((\"a\",\"b\",\"c\",\"d\")) # frozen set is unorder\n",
    "print(x)"
   ]
  },
  {
   "cell_type": "code",
   "execution_count": null,
   "id": "c28574dd",
   "metadata": {},
   "outputs": [],
   "source": []
  },
  {
   "cell_type": "code",
   "execution_count": null,
   "id": "9eb599ea",
   "metadata": {},
   "outputs": [],
   "source": [
    "x=frozenset((1,2,3,4,5))\n",
    "print(x)"
   ]
  },
  {
   "cell_type": "code",
   "execution_count": null,
   "id": "c8cd37f2",
   "metadata": {},
   "outputs": [],
   "source": [
    "x=frozenset((1,2,3,4,5,6,7,8,9,0,1,2,3,4,5,6))\n",
    "x"
   ]
  },
  {
   "cell_type": "code",
   "execution_count": null,
   "id": "8154fce7",
   "metadata": {},
   "outputs": [],
   "source": [
    "x=frozenset((\"apple\",\"orange\",\"cherry\",\"mango\",\"banana\"))\n",
    "x"
   ]
  },
  {
   "cell_type": "code",
   "execution_count": null,
   "id": "94d99d24",
   "metadata": {},
   "outputs": [],
   "source": []
  }
 ],
 "metadata": {
  "kernelspec": {
   "display_name": "Python 3 (ipykernel)",
   "language": "python",
   "name": "python3"
  },
  "language_info": {
   "codemirror_mode": {
    "name": "ipython",
    "version": 3
   },
   "file_extension": ".py",
   "mimetype": "text/x-python",
   "name": "python",
   "nbconvert_exporter": "python",
   "pygments_lexer": "ipython3",
   "version": "3.9.13"
  }
 },
 "nbformat": 4,
 "nbformat_minor": 5
}
